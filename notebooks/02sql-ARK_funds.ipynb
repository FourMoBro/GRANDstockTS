{
 "cells": [
  {
   "cell_type": "code",
   "execution_count": 1,
   "id": "43845f90",
   "metadata": {},
   "outputs": [],
   "source": [
    "import os\n",
    "import csv\n",
    "from dotenv import load_dotenv, find_dotenv\n",
    "import psycopg2\n",
    "import psycopg2.extras\n",
    "\n",
    "from datetime import datetime"
   ]
  },
  {
   "cell_type": "code",
   "execution_count": 2,
   "id": "e1e5062a",
   "metadata": {},
   "outputs": [],
   "source": [
    "load_dotenv(find_dotenv())\n",
    "\n",
    "host2 = os.environ.get(\"DB_HOST\")\n",
    "database2 = os.environ.get(\"DB_NAME\")\n",
    "user2 = os.environ.get(\"DB_USER\")\n",
    "password2 = os.environ.get(\"DB_PASSWORD\")"
   ]
  },
  {
   "cell_type": "code",
   "execution_count": 3,
   "id": "5659b0cf",
   "metadata": {},
   "outputs": [],
   "source": [
    "connection = psycopg2.connect(host=host2, database=database2, user=user2, password=password2)\n",
    "cursor = connection.cursor(cursor_factory=psycopg2.extras.DictCursor)"
   ]
  },
  {
   "cell_type": "code",
   "execution_count": 4,
   "id": "961fe1fb",
   "metadata": {},
   "outputs": [
    {
     "data": {
      "text/plain": [
       "[[172, 'ARKK', 'ARK INNOVATION ETF', 'BBG007FJMV58', 'ETP'],\n",
       " [7411, 'ARKW', 'ARK NEXT GENERATION INTERNET', 'BBG0077Q7LF9', 'ETP'],\n",
       " [8329, 'ARKX', 'ARK SPACE EXPLORATION & INNO', 'BBG00ZV1N0C6', 'ETP'],\n",
       " [10465, 'ARKQ', 'ARK AUTONOMOUS TECH & ROBOT', 'BBG0077Q7038', 'ETP'],\n",
       " [22442, 'ARKF', 'ARK FINTECH INNOVATION ETF', 'BBG00N7YFK60', 'ETP'],\n",
       " [23331, 'ARKG', 'ARK GENOMIC REVOLUTION ETF', 'BBG007FJPCB0', 'ETP'],\n",
       " [23506, 'IZRL', 'ARK ISRAEL INNOVATIVE TECHNO', 'BBG00JDV6F05', 'ETP']]"
      ]
     },
     "execution_count": 4,
     "metadata": {},
     "output_type": "execute_result"
    }
   ],
   "source": [
    "cursor.execute(\"SELECT * from stocks WHERE description LIKE 'ARK%' AND type = 'ETP'\")\n",
    "rows = cursor.fetchall()\n",
    "rows"
   ]
  },
  {
   "cell_type": "code",
   "execution_count": 5,
   "id": "4c733944",
   "metadata": {},
   "outputs": [],
   "source": [
    "#today = datetime.today().strftime('%Y-%m-%d')\n",
    "today = '2021-08-01'"
   ]
  },
  {
   "cell_type": "code",
   "execution_count": 6,
   "id": "e39574cf",
   "metadata": {},
   "outputs": [
    {
     "name": "stdout",
     "output_type": "stream",
     "text": [
      "ARKK\n",
      "ARKW\n",
      "ARKX\n",
      "ARKQ\n",
      "ARKF\n",
      "ARKG\n",
      "IZRL\n"
     ]
    }
   ],
   "source": [
    "for etf in rows:\n",
    "        print(etf['symbol'])\n",
    "\n",
    "        with open(f\"downloads/{today}/{etf['symbol']}.csv\") as f:\n",
    "            reader = csv.reader(f)\n",
    "            next(reader)\n",
    "            for row in reader:\n",
    "                ticker = row[3]\n",
    "\n",
    "                if ticker: \n",
    "                    shares = row[5]\n",
    "                    weight = row[7]\n",
    "                    date = row[0]\n",
    "                    cursor.execute(\"\"\"\n",
    "                        SELECT * FROM stocks WHERE symbol = %s\n",
    "                    \"\"\", (ticker,))\n",
    "                    stock = cursor.fetchone()\n",
    "                    if stock:\n",
    "                        cursor.execute(\"\"\"\n",
    "                            INSERT INTO etf_holding (etf_id, holding_id, dt, shares, weight)\n",
    "                            VALUES (%s, %s, %s, %s, %s)\n",
    "                        \"\"\", (etf['id'], stock['id'], date, shares, weight))"
   ]
  },
  {
   "cell_type": "code",
   "execution_count": 7,
   "id": "074ae704",
   "metadata": {},
   "outputs": [],
   "source": [
    "connection.commit()"
   ]
  },
  {
   "cell_type": "code",
   "execution_count": null,
   "id": "9c08991b",
   "metadata": {},
   "outputs": [],
   "source": []
  }
 ],
 "metadata": {
  "kernelspec": {
   "display_name": "Python 3 (ipykernel)",
   "language": "python",
   "name": "python3"
  },
  "language_info": {
   "codemirror_mode": {
    "name": "ipython",
    "version": 3
   },
   "file_extension": ".py",
   "mimetype": "text/x-python",
   "name": "python",
   "nbconvert_exporter": "python",
   "pygments_lexer": "ipython3",
   "version": "3.9.6"
  }
 },
 "nbformat": 4,
 "nbformat_minor": 5
}
