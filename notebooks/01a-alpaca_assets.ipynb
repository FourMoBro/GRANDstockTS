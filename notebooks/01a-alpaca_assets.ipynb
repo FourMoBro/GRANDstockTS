{
 "cells": [
  {
   "cell_type": "code",
   "execution_count": null,
   "id": "51240793",
   "metadata": {},
   "outputs": [],
   "source": [
    "import alpaca_trade_api as tradeapi\n",
    "import config"
   ]
  },
  {
   "cell_type": "code",
   "execution_count": null,
   "id": "274ca455",
   "metadata": {},
   "outputs": [],
   "source": [
    "api = tradeapi.REST(config.ALPACA_API_KEY)"
   ]
  },
  {
   "cell_type": "code",
   "execution_count": null,
   "id": "b0da20ad",
   "metadata": {},
   "outputs": [],
   "source": [
    "active_assets = api.list_assets(status='active')"
   ]
  }
 ],
 "metadata": {
  "kernelspec": {
   "display_name": "Python 3 (ipykernel)",
   "language": "python",
   "name": "python3"
  },
  "language_info": {
   "codemirror_mode": {
    "name": "ipython",
    "version": 3
   },
   "file_extension": ".py",
   "mimetype": "text/x-python",
   "name": "python",
   "nbconvert_exporter": "python",
   "pygments_lexer": "ipython3",
   "version": "3.9.6"
  }
 },
 "nbformat": 4,
 "nbformat_minor": 5
}
