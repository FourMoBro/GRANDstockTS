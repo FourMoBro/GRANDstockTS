{
 "cells": [
  {
   "cell_type": "code",
   "execution_count": null,
   "id": "43845f90",
   "metadata": {},
   "outputs": [],
   "source": [
    "import os\n",
    "import json\n",
    "import requests\n",
    "import datetime, time\n",
    "import aiohttp, asyncpg, asyncio\n",
    "from dotenv import load_dotenv, find_dotenv\n"
   ]
  },
  {
   "cell_type": "code",
   "execution_count": null,
   "id": "e1e5062a",
   "metadata": {},
   "outputs": [],
   "source": [
    "load_dotenv(find_dotenv())\n",
    "api_key2 = os.environ.get(\"POLYGON_API_KEY\")\n",
    "host2 = os.environ.get(\"DB_HOST\")\n",
    "database2 = os.environ.get(\"DB_NAME\")\n",
    "user2 = os.environ.get(\"DB_USER\")\n",
    "password2 = os.environ.get(\"DB_PASSWORD\")"
   ]
  },
  {
   "cell_type": "code",
   "execution_count": null,
   "id": "5659b0cf",
   "metadata": {},
   "outputs": [],
   "source": [
    "async def write_to_db(connection, params):\n",
    "    await connection.copy_records_to_table('stock_price_temp', records=params)"
   ]
  },
  {
   "cell_type": "code",
   "execution_count": null,
   "id": "ba09534e",
   "metadata": {},
   "outputs": [],
   "source": [
    "async def get_price(pool, stock_id, url):\n",
    "    try: \n",
    "        async with pool.acquire() as connection:\n",
    "            async with aiohttp.ClientSession() as session:\n",
    "                async with session.get(url=url) as response:\n",
    "                    resp = await response.read()\n",
    "                    response = json.loads(resp)\n",
    "                    params = [(stock_id, datetime.datetime.fromtimestamp(bar['t'] / 1000.0), round(bar['o'], 2), round(bar['h'], 2), round(bar['l'], 2), round(bar['c'], 2), bar['v']) for bar in response['results']]\n",
    "                    await write_to_db(connection, params)\n",
    "\n",
    "    except Exception as e:\n",
    "        print(\"Unable to get url {} due to {}.\".format(url, e.__class__))"
   ]
  },
  {
   "cell_type": "code",
   "execution_count": null,
   "id": "961fe1fb",
   "metadata": {
    "scrolled": true
   },
   "outputs": [],
   "source": [
    "async def get_prices(pool, symbol_urls):\n",
    "    try:\n",
    "        # schedule aiohttp requests to run concurrently for all symbols\n",
    "        ret = await asyncio.gather(*[get_price(pool, stock_id, symbol_urls[stock_id]) for stock_id in symbol_urls])\n",
    "        print(\"Finalized all. Returned  list of {} outputs.\".format(len(ret)))\n",
    "    except Exception as e:\n",
    "        print(e)"
   ]
  },
  {
   "cell_type": "code",
   "execution_count": null,
   "id": "4c733944",
   "metadata": {},
   "outputs": [],
   "source": [
    "async def get_stocks():\n",
    "    # create database connection pool\n",
    "    pool = await asyncpg.create_pool(user=user2, password=password2, database=database2, host=host2, command_timeout=60)\n",
    "    \n",
    "    # get a connection\n",
    "    async with pool.acquire() as connection:\n",
    "        stocks = await connection.fetch(\"SELECT * FROM stocks WHERE id IN (SELECT holding_id FROM holdings_temp)\")\n",
    "\n",
    "        symbol_urls = {}\n",
    "        for stock in stocks:\n",
    "            symbol_urls[stock['id']] = f\"https://api.polygon.io/v2/aggs/ticker/{stock['symbol']}/range/1/minute/2021-06-01/2021-07-30?adjusted=true&sort=asc&limit=50000&apiKey={api_key2}\"\n",
    "\n",
    "    await get_prices(pool, symbol_urls)"
   ]
  },
  {
   "cell_type": "code",
   "execution_count": null,
   "id": "e39574cf",
   "metadata": {},
   "outputs": [],
   "source": [
    "start = time.time()\n",
    "\n"
   ]
  },
  {
   "cell_type": "code",
   "execution_count": null,
   "id": "23b0f2fa",
   "metadata": {},
   "outputs": [],
   "source": [
    "asyncio.run(get_stocks())\n",
    "\n"
   ]
  },
  {
   "cell_type": "code",
   "execution_count": null,
   "id": "424a4d19",
   "metadata": {},
   "outputs": [],
   "source": [
    "end = time.time()"
   ]
  },
  {
   "cell_type": "code",
   "execution_count": null,
   "id": "074ae704",
   "metadata": {},
   "outputs": [],
   "source": [
    "print(\"Took {} seconds.\".format(end - start))"
   ]
  },
  {
   "cell_type": "code",
   "execution_count": null,
   "id": "9c08991b",
   "metadata": {},
   "outputs": [],
   "source": [
    "api_key2 \n"
   ]
  },
  {
   "cell_type": "code",
   "execution_count": null,
   "id": "6669c324",
   "metadata": {},
   "outputs": [],
   "source": []
  }
 ],
 "metadata": {
  "kernelspec": {
   "display_name": "Python 3 (ipykernel)",
   "language": "python",
   "name": "python3"
  },
  "language_info": {
   "codemirror_mode": {
    "name": "ipython",
    "version": 3
   },
   "file_extension": ".py",
   "mimetype": "text/x-python",
   "name": "python",
   "nbconvert_exporter": "python",
   "pygments_lexer": "ipython3",
   "version": "3.9.6"
  }
 },
 "nbformat": 4,
 "nbformat_minor": 5
}
